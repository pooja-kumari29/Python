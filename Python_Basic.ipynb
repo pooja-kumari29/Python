{
  "nbformat": 4,
  "nbformat_minor": 0,
  "metadata": {
    "colab": {
      "provenance": []
    },
    "kernelspec": {
      "name": "python3",
      "display_name": "Python 3"
    },
    "language_info": {
      "name": "python"
    }
  },
  "cells": [
    {
      "cell_type": "markdown",
      "source": [
        "**Python Basics Questions**\n"
      ],
      "metadata": {
        "id": "zLWhPkBvZHA9"
      }
    },
    {
      "cell_type": "markdown",
      "source": [
        "1. What is Python, and why is it popular?\n",
        "    \n",
        "    Python is a computer programming language. It’s used to tell computers what to do, just like giving instructions.\n",
        "    It is popular due to following reasons:-\n",
        "*   Easy to Learn-Python looks almost like English, so it’s great for beginners.\n",
        "*   Can Do a Lot- Use it to make websites, analyze data, build games, automate  \n",
        "    boring tasks, or even work with artificial intelligence.\n",
        "*   Works Anywhere- Python can run on Windows, Mac, and Linux without much\n",
        "    trouble\n",
        "*   Powerful Tools- Python has tons of free tools and libraries.\n",
        "\n"
      ],
      "metadata": {
        "id": "OsNdoHbzZGim"
      }
    },
    {
      "cell_type": "markdown",
      "source": [
        "2. What is an interpreter in Python?\n",
        "    \n",
        "  An interpreter in Python is a program that reads Python code and runs it line by line. Instead of converting the whole code into machine\n",
        "  language at once (like a compiler), the interpreter translates and executes each line one at a time."
      ],
      "metadata": {
        "id": "YIPMDMOybwvS"
      }
    },
    {
      "cell_type": "markdown",
      "source": [
        "3. What are pre-defined keywords in Python?\n",
        "    \n",
        "    Pre-defined keywords in Python are special words that have a fixed meaning in the language. They can be used as variable names or for anything\n",
        "     else."
      ],
      "metadata": {
        "id": "a5vtvrvUb_rR"
      }
    },
    {
      "cell_type": "markdown",
      "source": [
        "4. Can keywords be used as variable names?\n",
        "    \n",
        "    No, keywords cannot be used as variable names in Python."
      ],
      "metadata": {
        "id": "wkZ-IpwUcHW_"
      }
    },
    {
      "cell_type": "markdown",
      "source": [
        "5. What is mutability in Python?\n",
        "    \n",
        "    Mutability in Python refers to whether an object can be changed after it's created. Example- Lists, dictionaries, sets."
      ],
      "metadata": {
        "id": "YKznnze_cYhT"
      }
    },
    {
      "cell_type": "markdown",
      "source": [
        "6. Why are lists mutable, but tuples are immutable?\n",
        "    \n",
        "    Lists are mutable because they are meant to store a collection of items that can change. Tuples are immutable because They are used to store\n",
        "    fixed data that should not change. This makes them faster and safe to use as keys in dictionaries or in places where data shouldn't be changed\n",
        "    accidentally."
      ],
      "metadata": {
        "id": "SpQm3ndYcf6V"
      }
    },
    {
      "cell_type": "markdown",
      "source": [
        "7. What is the difference between “==” and “is” operators in Python?\n",
        "    \n",
        "    \"==\" Checks if values are equal. It compares the contents of two variables.\n",
        "    \"is\" Checks if they are the same object. It checks whether both variables point to the same memory location"
      ],
      "metadata": {
        "id": "ARKlV1Lxcu13"
      }
    },
    {
      "cell_type": "markdown",
      "source": [
        "8. What are logical operators in Python?\n",
        "    \n",
        "    Logical operators are used to combine multiple conditions and return True or False. There are three logical operators in python that are and, or,\n",
        "    & not."
      ],
      "metadata": {
        "id": "lAsTjh5sc0Ow"
      }
    },
    {
      "cell_type": "markdown",
      "source": [
        "9. What is type casting in Python?\n",
        "    \n",
        "    Type casting means converting a value from one data type to another."
      ],
      "metadata": {
        "id": "KETKLdJZc-mo"
      }
    },
    {
      "cell_type": "markdown",
      "source": [
        "10. What is the difference between implicit and explicit type casting?\n",
        "    \n",
        "    Implicit: Python converts data types automatically. Python is implicit.\n",
        "    \n",
        "    Explicit: You convert data types using casting functions."
      ],
      "metadata": {
        "id": "kznPoMjgdCvV"
      }
    },
    {
      "cell_type": "markdown",
      "source": [
        "11. What is the purpose of conditional statements in Python?\n",
        "    \n",
        "    The purpose of conditional statements in Python is to allow program to make decisions and execute different blocks of code based on certain\n",
        "    conditions.\n",
        "    Main conditional statements in Python:\n",
        "    - if – runs a block of code if a condition is true\n",
        "    - elif – checks another condition if the first if was false\n",
        "    - else – runs a block of code if none of the above conditions are true"
      ],
      "metadata": {
        "id": "MTMJMP7FdRYn"
      }
    },
    {
      "cell_type": "markdown",
      "source": [
        "12. How does the elif statement work?\n",
        "    \n",
        "    The elif statement in Python stands for \"else if\". It is used to check multiple conditions after the initial if condition.\n",
        "    How it works:\n",
        "    Python checks the if condition first.\n",
        "    If it's True, it runs that block and skips the rest.\n",
        "    If it's False, it checks the elif condition.\n",
        "    If the elif is True, it runs that block.\n",
        "    You can have multiple elif statements.\n",
        "    If none of the if or elif conditions are True, the else block runs (if it's present)."
      ],
      "metadata": {
        "id": "X1w7hIoRdhcr"
      }
    },
    {
      "cell_type": "markdown",
      "source": [
        "13. What is the difference between for and while loops?\n",
        "    \n",
        "    The difference between a for loop and a while loop in Python is how they control repetition.\n",
        "    A for loop is used when we know in advance how many times we want to repeat a block of code. It’s typically used to loop through a sequence like\n",
        "    a list, string, or a range of numbers.\n",
        "    A while loop is used when we want to repeat a block of code as long as a condition remains true, and we might not know how many times it will\n",
        "    run."
      ],
      "metadata": {
        "id": "IqJIeBsbdobn"
      }
    },
    {
      "cell_type": "markdown",
      "source": [
        "14. Describe a scenario where a while loop is more suitable than a for loop.\n",
        "    \n",
        "    A while loop is more suitable than a for loop when you don’t know in advance how many times the loop needs to run — in other words, when the\n",
        "    number of iterations depends on a changing condition, not a fixed range."
      ],
      "metadata": {
        "id": "LqbXVkP4dt8x"
      }
    },
    {
      "cell_type": "code",
      "source": [
        "# ATM card scenario using \"while\" loop:\n",
        "correct_pin = \"1234\"\n",
        "entered_pin = \"\"\n",
        "\n",
        "while entered_pin != correct_pin:\n",
        "    entered_pin = input(\"Enter your ATM PIN: \")\n",
        "\n",
        "print(\"Access granted.\")\n"
      ],
      "metadata": {
        "colab": {
          "base_uri": "https://localhost:8080/"
        },
        "id": "xHYgT0g-d51e",
        "outputId": "e22754b9-6355-40cc-a1bf-06f358f5f4a6"
      },
      "execution_count": null,
      "outputs": [
        {
          "output_type": "stream",
          "name": "stdout",
          "text": [
            "Enter your ATM PIN: 1234\n",
            "Access granted.\n"
          ]
        }
      ]
    },
    {
      "cell_type": "markdown",
      "source": [
        "Practical Questions"
      ],
      "metadata": {
        "id": "4z4N-RVAWVig"
      }
    },
    {
      "cell_type": "code",
      "source": [
        "# 1. Write a Python program to print \"Hello, World!\"\n",
        "print (\"Hello World\")"
      ],
      "metadata": {
        "colab": {
          "base_uri": "https://localhost:8080/"
        },
        "id": "Q0g_8hJ3Wn_d",
        "outputId": "6f838db5-511a-42ee-b33a-79297792741f"
      },
      "execution_count": 1,
      "outputs": [
        {
          "output_type": "stream",
          "name": "stdout",
          "text": [
            "Hello World\n"
          ]
        }
      ]
    },
    {
      "cell_type": "code",
      "source": [
        "# 2. Write a Python program that displays your name and age.\n",
        "name = \"Pooja Kumari\"\n",
        "age = 25\n",
        "print (\"My name is\", name)\n",
        "print (\"I am\", age, \"years old\")"
      ],
      "metadata": {
        "colab": {
          "base_uri": "https://localhost:8080/"
        },
        "id": "_VgnDsAxWytT",
        "outputId": "376b3858-718d-45f0-f5b0-ac2e04ff402e"
      },
      "execution_count": 2,
      "outputs": [
        {
          "output_type": "stream",
          "name": "stdout",
          "text": [
            "My name is Pooja Kumari\n",
            "I am 25 years old\n"
          ]
        }
      ]
    },
    {
      "cell_type": "code",
      "source": [
        "# 3. Write code to print all the pre-defined keywords in Python using the keyword library.\n",
        "help(\"keywords\")"
      ],
      "metadata": {
        "colab": {
          "base_uri": "https://localhost:8080/"
        },
        "id": "majVLT8_XEWR",
        "outputId": "0ef438dd-81c1-46ad-a91b-b2ba7781b850"
      },
      "execution_count": 3,
      "outputs": [
        {
          "output_type": "stream",
          "name": "stdout",
          "text": [
            "\n",
            "Here is a list of the Python keywords.  Enter any keyword to get more help.\n",
            "\n",
            "False               class               from                or\n",
            "None                continue            global              pass\n",
            "True                def                 if                  raise\n",
            "and                 del                 import              return\n",
            "as                  elif                in                  try\n",
            "assert              else                is                  while\n",
            "async               except              lambda              with\n",
            "await               finally             nonlocal            yield\n",
            "break               for                 not                 \n",
            "\n"
          ]
        }
      ]
    },
    {
      "cell_type": "code",
      "source": [
        "# 4. Write a program that checks if a given word is a Python keyword.\n",
        "import keyword\n",
        "word = input(\"Enter a word: \")\n",
        "\n",
        "if keyword.iskeyword(word):\n",
        "    print(f\"'{word}' is a Python keyword.\")\n",
        "else:\n",
        "    print(f\"'{word}' is NOT a Python keyword.\")"
      ],
      "metadata": {
        "colab": {
          "base_uri": "https://localhost:8080/"
        },
        "id": "PL5yhm9xXJF3",
        "outputId": "8d8da137-b6ee-4faf-d1b0-cb1a289b7c21"
      },
      "execution_count": 4,
      "outputs": [
        {
          "output_type": "stream",
          "name": "stdout",
          "text": [
            "Enter a word: for\n",
            "'for' is a Python keyword.\n"
          ]
        }
      ]
    },
    {
      "cell_type": "code",
      "source": [
        "# 5.  Create a list and tuple in Python, and demonstrate how attempting to change an element works differently for each.\n",
        "# Created a list\n",
        "my_list = [10, 20, 30]\n",
        "print(\"Original list:\", my_list)\n",
        "\n",
        "# Changing the second element of the list\n",
        "my_list[1] = 99\n",
        "print(\"Modified list:\", my_list)\n",
        "\n",
        "# Creating a tuple\n",
        "my_tuple = (10, 20, 30)\n",
        "print(\"\\nOriginal tuple:\", my_tuple)\n",
        "\n",
        "# Trying to change the second element of the tuple (this will cause an error)\n",
        "try:\n",
        "    my_tuple[1] = 99\n",
        "except TypeError as e:\n",
        "    print(\"Error while modifying tuple:\", e)\n"
      ],
      "metadata": {
        "colab": {
          "base_uri": "https://localhost:8080/"
        },
        "id": "nFKcXAQ_XTGn",
        "outputId": "33beef32-4187-4586-cadf-b005526041fa"
      },
      "execution_count": 6,
      "outputs": [
        {
          "output_type": "stream",
          "name": "stdout",
          "text": [
            "Original list: [10, 20, 30]\n",
            "Modified list: [10, 99, 30]\n",
            "\n",
            "Original tuple: (10, 20, 30)\n",
            "Error while modifying tuple: 'tuple' object does not support item assignment\n"
          ]
        }
      ]
    },
    {
      "cell_type": "code",
      "source": [
        "# 6.  Write a function to demonstrate the behavior of mutable and immutable arguments.\n",
        "def modify_arguments(num, num_list):\n",
        "    print(\"Inside function before modification:\")\n",
        "    print(\"num =\", num)\n",
        "    print(\"num_list =\", num_list)\n",
        "\n",
        "    # Modify the arguments\n",
        "    num += 10\n",
        "    num_list.append(100)\n",
        "\n",
        "    print(\"Inside function after modification:\")\n",
        "    print(\"num =\", num)\n",
        "    print(\"num_list =\", num_list)\n",
        "\n",
        "# Immutable argument (int)\n",
        "x = 5\n",
        "\n",
        "# Mutable argument (list)\n",
        "my_list = [1, 2, 3]\n",
        "\n",
        "print(\"Before function call:\")\n",
        "print(\"x =\", x)\n",
        "print(\"my_list =\", my_list)\n",
        "\n",
        "# Call the function\n",
        "modify_arguments(x, my_list)\n",
        "\n",
        "print(\"\\nAfter function call:\")\n",
        "print(\"x =\", x)\n",
        "print(\"my_list =\", my_list)\n",
        "# x is an integer (immutable), so changes inside the function don’t affect the original variable.\n",
        "# my_list is a list (mutable), so changes inside the function do affect the original list."
      ],
      "metadata": {
        "colab": {
          "base_uri": "https://localhost:8080/"
        },
        "id": "Eyk1xeqiXc8u",
        "outputId": "78d2683b-2c11-4adb-99a9-f61ccf709506"
      },
      "execution_count": 7,
      "outputs": [
        {
          "output_type": "stream",
          "name": "stdout",
          "text": [
            "Before function call:\n",
            "x = 5\n",
            "my_list = [1, 2, 3]\n",
            "Inside function before modification:\n",
            "num = 5\n",
            "num_list = [1, 2, 3]\n",
            "Inside function after modification:\n",
            "num = 15\n",
            "num_list = [1, 2, 3, 100]\n",
            "\n",
            "After function call:\n",
            "x = 5\n",
            "my_list = [1, 2, 3, 100]\n"
          ]
        }
      ]
    },
    {
      "cell_type": "code",
      "source": [
        "# 7. Write a program that performs basic arithmetic operations on two user-input numbers.\n",
        "# Take user input and convert to float\n",
        "num1 = float(input(\"Enter the first number: \"))\n",
        "num2 = float(input(\"Enter the second number: \"))\n",
        "\n",
        "# Perform operations\n",
        "print(\"\\nResults:\")\n",
        "print(f\"Addition: {num1} + {num2} = {num1 + num2}\")\n",
        "print(f\"Subtraction: {num1} - {num2} = {num1 - num2}\")\n",
        "print(f\"Multiplication: {num1} * {num2} = {num1 * num2}\")\n",
        "\n",
        "# Check for division by zero\n",
        "if num2 != 0:\n",
        "    print(f\"Division: {num1} / {num2} = {num1 / num2}\")\n",
        "else:\n",
        "    print(\"Division: Cannot divide by zero!\")\n"
      ],
      "metadata": {
        "colab": {
          "base_uri": "https://localhost:8080/"
        },
        "id": "TkOuMbL3XuNA",
        "outputId": "36ae594f-c28e-485c-ae70-79deccd52ab9"
      },
      "execution_count": 8,
      "outputs": [
        {
          "output_type": "stream",
          "name": "stdout",
          "text": [
            "Enter the first number: 6\n",
            "Enter the second number: 62\n",
            "\n",
            "Results:\n",
            "Addition: 6.0 + 62.0 = 68.0\n",
            "Subtraction: 6.0 - 62.0 = -56.0\n",
            "Multiplication: 6.0 * 62.0 = 372.0\n",
            "Division: 6.0 / 62.0 = 0.0967741935483871\n"
          ]
        }
      ]
    },
    {
      "cell_type": "code",
      "source": [
        "# 8.  Write a program to demonstrate the use of logical operators.\n",
        "# Define some boolean values\n",
        "a = True\n",
        "b = False\n",
        "\n",
        "# Demonstrate logical operators\n",
        "print(\"Logical Operators Demo:\")\n",
        "\n",
        "# AND operator\n",
        "print(f\"a and b = {a and b}\")   # False\n",
        "\n",
        "# OR operator\n",
        "print(f\"a or b = {a or b}\")     # True\n",
        "\n",
        "# NOT operator\n",
        "print(f\"not a = {not a}\")       # False\n",
        "print(f\"not b = {not b}\")       # True"
      ],
      "metadata": {
        "colab": {
          "base_uri": "https://localhost:8080/"
        },
        "id": "LIh_RA7PYByb",
        "outputId": "cd26871f-60fd-4ea0-e078-be578749fdfa"
      },
      "execution_count": 9,
      "outputs": [
        {
          "output_type": "stream",
          "name": "stdout",
          "text": [
            "Logical Operators Demo:\n",
            "a and b = False\n",
            "a or b = True\n",
            "not a = False\n",
            "not b = True\n"
          ]
        }
      ]
    },
    {
      "cell_type": "code",
      "source": [
        "# 9.  Write a Python program to convert user input from string to integer, float, and boolean types.\n",
        "# Take user input as a string\n",
        "user_input = input(\"Enter a value: \")\n",
        "\n",
        "# Convert to integer\n",
        "try:\n",
        "    int_value = int(user_input)\n",
        "    print(f\"Integer conversion: {int_value}\")\n",
        "except ValueError:\n",
        "    print(\"Cannot convert to integer.\")\n",
        "\n",
        "# Convert to float\n",
        "try:\n",
        "    float_value = float(user_input)\n",
        "    print(f\"Float conversion: {float_value}\")\n",
        "except ValueError:\n",
        "    print(\"Cannot convert to float.\")\n",
        "\n",
        "# Convert to boolean\n",
        "bool_value = bool(user_input)\n",
        "print(f\"Boolean conversion: {bool_value}\")\n"
      ],
      "metadata": {
        "colab": {
          "base_uri": "https://localhost:8080/"
        },
        "id": "eKzHnN0QYIa8",
        "outputId": "a6ef11f2-8e77-4762-8d15-c9d584107cc3"
      },
      "execution_count": 11,
      "outputs": [
        {
          "output_type": "stream",
          "name": "stdout",
          "text": [
            "Enter a value: 456\n",
            "Integer conversion: 456\n",
            "Float conversion: 456.0\n",
            "Boolean conversion: True\n"
          ]
        }
      ]
    },
    {
      "cell_type": "code",
      "source": [
        "# 10.  Write code to demonstrate type casting with list elements.\n",
        "\n",
        "str_list = [\"10\", \"20\", \"30\", \"40\"]\n",
        "\n",
        "print(\"Original list (strings):\", str_list)\n",
        "\n",
        "int_list = [int(i) for i in str_list]\n",
        "print(\"Converted to integers:\", int_list)\n",
        "\n",
        "float_list = [float(i) for i in str_list]\n",
        "print(\"Converted to floats:\", float_list)\n",
        "\n",
        "bool_list = [bool(i) for i in str_list]\n",
        "print(\"Converted to booleans:\", bool_list)"
      ],
      "metadata": {
        "colab": {
          "base_uri": "https://localhost:8080/"
        },
        "id": "NZ3y6sPHZnYJ",
        "outputId": "280a11a5-1f83-400d-fbe0-4297036e28da"
      },
      "execution_count": 12,
      "outputs": [
        {
          "output_type": "stream",
          "name": "stdout",
          "text": [
            "Original list (strings): ['10', '20', '30', '40']\n",
            "Converted to integers: [10, 20, 30, 40]\n",
            "Converted to floats: [10.0, 20.0, 30.0, 40.0]\n",
            "Converted to booleans: [True, True, True, True]\n"
          ]
        }
      ]
    },
    {
      "cell_type": "code",
      "source": [
        "# 11. Write a program that checks if a number is positive, negative, or zero.\n",
        "\n",
        "num = float(input(\"Enter a number: \"))\n",
        "\n",
        "if num > 0:\n",
        "    print(\"The number is positive.\")\n",
        "elif num < 0:\n",
        "    print(\"The number is negative.\")\n",
        "else:\n",
        "    print(\"The number is zero.\")"
      ],
      "metadata": {
        "colab": {
          "base_uri": "https://localhost:8080/"
        },
        "id": "W_5IqLPwZtVp",
        "outputId": "3712f0be-7569-4ca0-8055-787beea15d39"
      },
      "execution_count": 13,
      "outputs": [
        {
          "output_type": "stream",
          "name": "stdout",
          "text": [
            "Enter a number: 78\n",
            "The number is positive.\n"
          ]
        }
      ]
    },
    {
      "cell_type": "code",
      "source": [
        "# 12.  Write a for loop to print numbers from 1 to 10.\n",
        "for i in range(1, 11):\n",
        "    print(i)"
      ],
      "metadata": {
        "colab": {
          "base_uri": "https://localhost:8080/"
        },
        "id": "_IDEHHN1Z6GB",
        "outputId": "70cb88da-ff6a-4812-8f19-35b1e4b1d76e"
      },
      "execution_count": 14,
      "outputs": [
        {
          "output_type": "stream",
          "name": "stdout",
          "text": [
            "1\n",
            "2\n",
            "3\n",
            "4\n",
            "5\n",
            "6\n",
            "7\n",
            "8\n",
            "9\n",
            "10\n"
          ]
        }
      ]
    },
    {
      "cell_type": "code",
      "source": [
        "# 13.  Write a Python program to find the sum of all even numbers between 1 and 50.\n",
        "total = 0\n",
        "for i in range(1, 51):\n",
        "    if i % 2 == 0:\n",
        "        total += i\n",
        "print(\"Sum of even numbers from 1 to 50 is:\", total)"
      ],
      "metadata": {
        "colab": {
          "base_uri": "https://localhost:8080/"
        },
        "id": "MQpos3UNZ_TW",
        "outputId": "f594bf4f-226d-4b53-bc60-86d4ea7d6720"
      },
      "execution_count": 16,
      "outputs": [
        {
          "output_type": "stream",
          "name": "stdout",
          "text": [
            "Sum of even numbers from 1 to 50 is: 650\n"
          ]
        }
      ]
    },
    {
      "cell_type": "code",
      "source": [
        "# 14.  Write a program to reverse a string using a while loop.\n",
        "text = input(\"Enter a string: \")\n",
        "reversed_text = \"\"\n",
        "index = len(text) - 1\n",
        "while index >= 0:\n",
        "    reversed_text += text[index]\n",
        "    index -= 1\n",
        "print(\"Reversed string:\", reversed_text)"
      ],
      "metadata": {
        "colab": {
          "base_uri": "https://localhost:8080/"
        },
        "id": "y0EKydl4aS8L",
        "outputId": "11088ea8-2d70-4865-8776-b45821b88869"
      },
      "execution_count": 17,
      "outputs": [
        {
          "output_type": "stream",
          "name": "stdout",
          "text": [
            "Enter a string: Pooja\n",
            "Reversed string: ajooP\n"
          ]
        }
      ]
    },
    {
      "cell_type": "code",
      "source": [
        "# 15. Write a Python program to calculate the factorial of a number provided by the user using a while loop.\n",
        "\n",
        "num = int(input(\"Enter a number: \"))\n",
        "factorial = 1\n",
        "i = 1\n",
        "while i <= num:\n",
        "    factorial *= i\n",
        "    i += 1\n",
        "print(f\"The factorial of {num} is {factorial}\")"
      ],
      "metadata": {
        "colab": {
          "base_uri": "https://localhost:8080/"
        },
        "id": "4eSfICclafkw",
        "outputId": "876cf983-b30a-4005-ec5d-7efca8d1f8bc"
      },
      "execution_count": 19,
      "outputs": [
        {
          "output_type": "stream",
          "name": "stdout",
          "text": [
            "Enter a number: 21\n",
            "The factorial of 21 is 51090942171709440000\n"
          ]
        }
      ]
    }
  ]
}